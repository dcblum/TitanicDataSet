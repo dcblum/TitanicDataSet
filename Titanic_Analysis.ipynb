{
 "cells": [
  {
   "cell_type": "markdown",
   "metadata": {
    "collapsed": true
   },
   "source": [
    " # <center>Titanic Survival Statistics</center>"
   ]
  },
  {
   "cell_type": "markdown",
   "metadata": {},
   "source": [
    "This document is desinged to assess 5 of the 7 factors that lead to a passenger's survival onboard the Titanic as per data collected  [here](https://www.kaggle.com/c/titanic/data).\n",
    "\n",
    "Factors:\n",
    "* Class\n",
    "* Sex\n",
    "* Age\n",
    "* Family Onboard (Not inspected here)\n",
    "* Ticket # (Not inspected here)\n",
    "* Fare\n",
    "* Embarkation"
   ]
  },
  {
   "cell_type": "markdown",
   "metadata": {},
   "source": [
    "## Import Data"
   ]
  },
  {
   "cell_type": "code",
   "execution_count": 2,
   "metadata": {
    "collapsed": false
   },
   "outputs": [],
   "source": [
    "import unicodecsv\n",
    "import pandas as pd\n",
    "import matplotlib.pyplot as plt\n",
    "\n",
    "# Allow plots to show inline in notebook\n",
    "%matplotlib inline\n",
    "\n",
    "# Read in CSV file. This definition is provided by Udacity.com, and is the only direct copy of outside code\n",
    "def read_csv(filename):\n",
    "    '''Returns a dictionary of the CSV file'''\n",
    "    with open(filename, 'rb') as f:\n",
    "        reader = unicodecsv.DictReader(f)\n",
    "        return list(reader)\n",
    "\n",
    "tdata = read_csv('titanic_data.csv')"
   ]
  },
  {
   "cell_type": "markdown",
   "metadata": {},
   "source": [
    "## Clean Data"
   ]
  },
  {
   "cell_type": "code",
   "execution_count": 3,
   "metadata": {
    "collapsed": false
   },
   "outputs": [],
   "source": [
    "def parse_ticket(ticket):\n",
    "    '''Returns int: the numerical value of the ticket string. Returns \"None\" if ticket number not at end of string'''\n",
    "    if ticket == '':\n",
    "        return None\n",
    "    else:\n",
    "        ticket_reverse_split = ticket[::-1].split(' ', 1)\n",
    "        ticket_num = ticket_reverse_split[0][::-1]\n",
    "    try:\n",
    "        return int(ticket_num)\n",
    "    except:\n",
    "        return None\n",
    "    \n",
    "def parse_int(number):\n",
    "    '''Returns number string as int. Returns \"None\" if empty'''\n",
    "    if number == \"\":\n",
    "        return None\n",
    "    return int(number)\n",
    "    \n",
    "def parse_float(number):\n",
    "    '''Returns number string as float. Returns \"None\" if empty'''\n",
    "    if number == \"\":\n",
    "        return None\n",
    "    return float(number) \n",
    "\n",
    "def parse_string(string):\n",
    "    '''Returns empty string value as \"None\"'''\n",
    "    if string == \"\":\n",
    "        return None\n",
    "    return string\n",
    "\n",
    "# Clean up data in titanic data table\n",
    "for data in tdata:\n",
    "    data['Survived'] = parse_int(data['Survived'])\n",
    "    data['Pclass'] = parse_int(data['Pclass'])\n",
    "    data['Age'] = parse_float(data['Age'])\n",
    "    data['SibSp'] = parse_int(data['SibSp'])\n",
    "    data['Parch'] = parse_int(data['Parch'])\n",
    "    data['Ticket'] = parse_ticket(data['Ticket'])\n",
    "    data['Fare'] = parse_float(data['Fare'])\n",
    "    data['Cabin'] = parse_string(data['Cabin'])\n",
    "    data['Embarked'] = parse_string(data['Embarked'])\n"
   ]
  },
  {
   "cell_type": "code",
   "execution_count": 4,
   "metadata": {
    "collapsed": true
   },
   "outputs": [],
   "source": [
    "# Create DataFrame from cleaned data use with pandas\n",
    "tdata_df = pd.DataFrame(tdata)"
   ]
  },
  {
   "cell_type": "markdown",
   "metadata": {},
   "source": [
    "## Define Universal Functions for Data Analysis"
   ]
  },
  {
   "cell_type": "code",
   "execution_count": 5,
   "metadata": {
    "collapsed": false
   },
   "outputs": [],
   "source": [
    "# Define functions for simple analysis of data\n",
    "\n",
    "def list_maker(data, key, value):\n",
    "    '''Returns a subset of dataset with desired key value'''\n",
    "    data_true = []\n",
    "    for element in data:\n",
    "        item = []\n",
    "        if element[key] == value:\n",
    "            data_true.append(element)\n",
    "    return data_true\n",
    "\n",
    "def list_maker_between(data, key, value_list):\n",
    "    '''Returns a subset of dataset with key value between value_list. Value_list must be in the form [float1, float2]. Float1\n",
    "    not included in calculation'''\n",
    "    data_true = []\n",
    "    for element in data:\n",
    "        item = []\n",
    "        if (element[key] > value_list[0]) and (element[key] <= value_list[1]):\n",
    "            data_true.append(element)\n",
    "    return data_true\n",
    "\n",
    "def percent(part, whole):\n",
    "    '''Returns float percent of part / whole'''\n",
    "    return float(part)/float(whole)\n",
    "\n",
    "def get_values(key, value):\n",
    "    '''Returns 3 values from dataset in form: int(total), int(survivors), percent(float)'''\n",
    "    key_total = list_maker(tdata, key, value)\n",
    "    key_surv = list_maker(key_total, \"Survived\", 1)\n",
    "    return len(key_total), len(key_surv), percent(len(key_surv), len(key_total))\n",
    "\n",
    "def get_values_between(key, value_list):\n",
    "    '''Returns 3 values from dataset in form: int(total), int(survivors), percent(float) where value_list must be in form\n",
    "    [float1, float2]'''\n",
    "    key_total = list_maker_between(tdata, key, value_list)\n",
    "    key_surv = list_maker(key_total, \"Survived\", 1)\n",
    "    return len(key_total), len(key_surv), percent(len(key_surv), len(key_total))\n",
    "\n",
    "def print_survival(int_whole, int_part, float_per, string):\n",
    "    '''Print survival stats: key_passengers, key_survivors, key_percent_survived'''\n",
    "    print (\"%s Passengers: \" + str(int_whole)) % string\n",
    "    print (\"%s Survivors: \" + str(int_part)) % string\n",
    "    print (\"Percent %s Survived: \" + \"%.2f\" + \"\\n\") % (string, float_per)\n",
    "    \n",
    "def plot_bar_values(per_list, labels_list, key):\n",
    "    '''Plots a bar graph based on length of per_list which acts as yvalues. Each x value is labeled according to labels_list. \n",
    "    Title of graph based off key'''\n",
    "    x_values = range(1, len(labels_list)+1)\n",
    "    y_values = per_list\n",
    "\n",
    "    plt.bar(x_values, y_values, align='center', width=.5)\n",
    "    plt.xticks(x_values, labels_list)\n",
    "    plt.ylabel(\"Survival Percentage\")\n",
    "    plt.title(\"Percent Survivors by %s\" % key)\n",
    "\n",
    "    plt.show()"
   ]
  },
  {
   "cell_type": "markdown",
   "metadata": {},
   "source": [
    "# Mess Around with Numpy and Panda"
   ]
  },
  {
   "cell_type": "code",
   "execution_count": 41,
   "metadata": {
    "collapsed": false
   },
   "outputs": [
    {
     "name": "stdout",
     "output_type": "stream",
     "text": [
      "Age         29.699118\n",
      "Survived     0.406162\n",
      "dtype: float64\n",
      "0.383838383838\n"
     ]
    }
   ],
   "source": [
    "#tdata_df[\"Age\"].plot\n",
    "\n",
    "#plt.show()\n",
    "\n",
    "#age_surv = tdata_df.groupby([\"Survived\", \"Age\"], as_index=False).apply(lambda x: x).mean()\n",
    "#print age_surv[[\"Age\", \"Survived\"]]\n",
    "\n",
    "#fare_surv = tdata_df.groupby([\"Survived\", \"Fare\"], as_index=False).apply(lambda x: x).mean()\n",
    "#print age_surv[[\"Fare\", \"Survived\"]]\n",
    "\n",
    "age_surv = tdata_df.groupby([\"Survived\", \"Age\"], as_index=False).apply(lambda x: x)#.mean()\n",
    "print age_surv[[\"Age\", \"Survived\"]].dropna().mean()\n",
    "\n",
    "fare_surv = tdata_df.groupby([\"Survived\", \"Fare\"], as_index=False).apply(lambda x: x)#.mean()\n",
    "print fare_surv[[\"Fare\", \"Survived\"]].dropna().mean()[1]\n",
    "\n",
    "#age_surv = tdata_df.groupby([\"Survived\", \"Age\"], as_index=False).apply(lambda x: x)#.mean()\n",
    "#print age_surv[[\"Age\", \"Survived\"]]"
   ]
  },
  {
   "cell_type": "markdown",
   "metadata": {},
   "source": [
    "## Percent Sample Total Survived (PSTS)"
   ]
  },
  {
   "cell_type": "code",
   "execution_count": 7,
   "metadata": {
    "collapsed": false
   },
   "outputs": [
    {
     "name": "stdout",
     "output_type": "stream",
     "text": [
      "Sample Total Passengers: 891\n",
      "Sample Total Survivors: 342\n",
      "Percent Sample Total Survived: 0.38\n",
      "\n",
      "Percent Sample Total Survived: 0.38\n",
      "891\n"
     ]
    }
   ],
   "source": [
    "# Generate survivor and not_survivor lists\n",
    "survivors = list_maker(tdata, \"Survived\", 1)\n",
    "not_survivors = list_maker(tdata, \"Survived\", 0)\n",
    "\n",
    "# Find total number of passengers, survivors, and overall survival percent \n",
    "num_total = len(tdata)\n",
    "num_surv = len(survivors)\n",
    "\n",
    "# Print overall survival stats\n",
    "print_survival(num_total, num_surv, percent(num_surv, num_total), \"Sample Total\")\n",
    "\n",
    "print \"Percent Sample Total Survived: %.2f\" % tdata_df[\"Survived\"].mean()\n",
    "print len(tdata_df)"
   ]
  },
  {
   "cell_type": "markdown",
   "metadata": {},
   "source": [
    "Analysis:\n",
    "\n",
    "PSTS is calculated at 38%. This means a passenger chosen at random would have a 38% chance of survival. The rest of the analysis will compare and relate the PSTS to various factors as mentioned in the beginning."
   ]
  },
  {
   "cell_type": "markdown",
   "metadata": {},
   "source": [
    "## Percent Survivors by Class"
   ]
  },
  {
   "cell_type": "code",
   "execution_count": 8,
   "metadata": {
    "collapsed": false
   },
   "outputs": [
    {
     "name": "stdout",
     "output_type": "stream",
     "text": [
      "Lower Class Passengers: 491\n",
      "Lower Class Survivors: 119\n",
      "Percent Lower Class Survived: 0.24\n",
      "\n",
      "Middle Class Passengers: 184\n",
      "Middle Class Survivors: 87\n",
      "Percent Middle Class Survived: 0.47\n",
      "\n",
      "Upper Class Passengers: 216\n",
      "Upper Class Survivors: 136\n",
      "Percent Upper Class Survived: 0.63\n",
      "\n"
     ]
    }
   ],
   "source": [
    "# Inspect factor CLASS from key \"Pclass\"\n",
    "\n",
    "# Get values for \n",
    "num_low, num_surv_low, num_low_per = get_values(\"Pclass\", 3)\n",
    "num_mid, num_surv_mid, num_mid_per = get_values(\"Pclass\", 2)\n",
    "num_up, num_surv_up, num_up_per = get_values(\"Pclass\", 1)\n",
    "\n",
    "# Print survival stats based on Class\n",
    "print_survival(num_low, num_surv_low, num_low_per, \"Lower Class\")\n",
    "print_survival(num_mid, num_surv_mid, num_mid_per, \"Middle Class\")\n",
    "print_survival(num_up, num_surv_up, num_up_per, \"Upper Class\")"
   ]
  },
  {
   "cell_type": "code",
   "execution_count": 9,
   "metadata": {
    "collapsed": false
   },
   "outputs": [
    {
     "data": {
      "image/png": "[encoded data removed]",
      "text/plain": [
       "<matplotlib.figure.Figure at 0x8db7eb8>"
      ]
     },
     "metadata": {},
     "output_type": "display_data"
    }
   ],
   "source": [
    "# Graph Percent Survivors by Class\n",
    "plot_bar_values([num_low_per, num_mid_per, num_up_per ], [\"Lower Class\", \"Middle Class\", \"Upper Class\"], \"Class\")"
   ]
  },
  {
   "cell_type": "markdown",
   "metadata": {},
   "source": [
    "Analysis CLASS:\n",
    "\n",
    "Survival Percentage greatly increases with Class status. Both the Middle and Upper Classes are largely above the PSTS whereas the Lower class is far below the PSTS. This indicates a correlation between survival and Class; the higher the passeger's class the more likely they are to survive."
   ]
  },
  {
   "cell_type": "markdown",
   "metadata": {
    "collapsed": true
   },
   "source": [
    "## Percent Survivors by Sex"
   ]
  },
  {
   "cell_type": "code",
   "execution_count": 10,
   "metadata": {
    "collapsed": false
   },
   "outputs": [
    {
     "name": "stdout",
     "output_type": "stream",
     "text": [
      "Male Passengers: 577\n",
      "Male Survivors: 109\n",
      "Percent Male Survived: 0.19\n",
      "\n",
      "Female Passengers: 314\n",
      "Female Survivors: 233\n",
      "Percent Female Survived: 0.74\n",
      "\n"
     ]
    }
   ],
   "source": [
    "# Inspect factor SEX from key \"Sex\"\n",
    "\n",
    "# Get values\n",
    "num_male, num_male_surv, num_male_per = get_values(\"Sex\", \"male\")\n",
    "num_female, num_female_surv, num_female_per = get_values(\"Sex\", \"female\")\n",
    "\n",
    "# Print stats \n",
    "print_survival(num_male, num_male_surv, num_male_per, \"Male\")\n",
    "print_survival(num_female, num_female_surv, num_female_per, \"Female\")"
   ]
  },
  {
   "cell_type": "code",
   "execution_count": 11,
   "metadata": {
    "collapsed": false
   },
   "outputs": [
    {
     "data": {
      "image/png": "[encoded data removed]",
      "text/plain": [
       "<matplotlib.figure.Figure at 0x9383b70>"
      ]
     },
     "metadata": {},
     "output_type": "display_data"
    }
   ],
   "source": [
    "# Graph Percent Survivors by Sex\n",
    "plot_bar_values([num_male_per, num_female_per], [\"Male\", \"Female\"], \"Sex\")"
   ]
  },
  {
   "cell_type": "markdown",
   "metadata": {},
   "source": [
    "Analysis SEX:\n",
    "\n",
    "Sex has the highest disparity between surviving and not surviving the Titanic. Being a woman onboard the Titanic DOUBLES the chance of survival, whereas being a male HALVES the chance."
   ]
  },
  {
   "cell_type": "markdown",
   "metadata": {},
   "source": [
    "## Percent Survivors by Age"
   ]
  },
  {
   "cell_type": "code",
   "execution_count": 12,
   "metadata": {
    "collapsed": false
   },
   "outputs": [
    {
     "name": "stdout",
     "output_type": "stream",
     "text": [
      "Age (0,13] Passengers: 71\n",
      "Age (0,13] Survivors: 42\n",
      "Percent Age (0,13] Survived: 0.59\n",
      "\n",
      "Age (13,18] Passengers: 68\n",
      "Age (13,18] Survivors: 28\n",
      "Percent Age (13,18] Survived: 0.41\n",
      "\n",
      "Age (18,50] Passengers: 511\n",
      "Age (18,50] Survivors: 198\n",
      "Percent Age (18,50] Survived: 0.39\n",
      "\n",
      "Age (50,100] Passengers: 64\n",
      "Age (50,100] Survivors: 22\n",
      "Percent Age (50,100] Survived: 0.34\n",
      "\n"
     ]
    }
   ],
   "source": [
    "# Inspect factor AGE from key \"Age\"\n",
    "'''Although values in Age have estimates, all values besides None are treated as True Age'''\n",
    "\n",
    "# Get Values\n",
    "num_child, num_child_surv, num_child_per = get_values_between(\"Age\", [0, 13])\n",
    "num_young, num_young_surv, num_young_per = get_values_between(\"Age\", [13, 18])\n",
    "num_adult, num_adult_surv, num_adult_per = get_values_between(\"Age\", [18, 50])\n",
    "num_senior, num_senior_surv, num_senior_per = get_values_between(\"Age\", [50, 100])\n",
    "\n",
    "# Print Survival Stats for Fare\n",
    "print_survival(num_child, num_child_surv, num_child_per, \"Age (0,13]\")\n",
    "print_survival(num_young, num_young_surv, num_young_per, \"Age (13,18]\")\n",
    "print_survival(num_adult, num_adult_surv, num_adult_per, \"Age (18,50]\")\n",
    "print_survival(num_senior, num_senior_surv, num_senior_per, \"Age (50,100]\")"
   ]
  },
  {
   "cell_type": "code",
   "execution_count": 13,
   "metadata": {
    "collapsed": false
   },
   "outputs": [
    {
     "data": {
      "image/png": "[encoded data removed]",
      "text/plain": [
       "<matplotlib.figure.Figure at 0x960e4e0>"
      ]
     },
     "metadata": {},
     "output_type": "display_data"
    }
   ],
   "source": [
    "# Graph Percent Survivors by Age\n",
    "plot_bar_values([num_child_per, num_young_per, num_adult_per, num_senior_per],[\"0 to 13\",\"13 to 18\",\"18 to 50\",\"50 to 100\"],\n",
    "                \"Age\")"
   ]
  },
  {
   "cell_type": "markdown",
   "metadata": {},
   "source": [
    "Analysis AGE:\n",
    "\n",
    "Being a child up to the age of 13 onboard the Titanic increases survival by nearly 1.5 times the PSTS. All other age values have little to no effect on the chance of survival.\n",
    "\n",
    "*As noted earlier, all values in AGE were used as presented in the dataset*"
   ]
  },
  {
   "cell_type": "markdown",
   "metadata": {},
   "source": [
    "## Percent Survivors by Fare"
   ]
  },
  {
   "cell_type": "code",
   "execution_count": 14,
   "metadata": {
    "collapsed": false
   },
   "outputs": [
    {
     "name": "stdout",
     "output_type": "stream",
     "text": [
      "Mean Fare: $32.20\n",
      "STD Fare: $49.69\n",
      "Median Fare: $14.45\n"
     ]
    }
   ],
   "source": [
    "# Inspect factor FARE from key \"Fare\"\n",
    "\n",
    "# Find mean, std, and median of Fare\n",
    "fare_mean = tdata_df[\"Fare\"].mean()\n",
    "fare_std = tdata_df[\"Fare\"].std()\n",
    "fare_median = tdata_df[\"Fare\"].median()\n",
    "\n",
    "print \"Mean Fare: $\" + \"%.2f\" % fare_mean\n",
    "print \"STD Fare: $\" + \"%.2f\" % fare_std\n",
    "print \"Median Fare: $\" + \"%.2f\" % fare_median"
   ]
  },
  {
   "cell_type": "markdown",
   "metadata": {},
   "source": [
    "The median is close to half a standard deviation below the mean; this indicates data is heavily influenced by few, large outliers. Splitting Data into quartiles may be better for analysis."
   ]
  },
  {
   "cell_type": "code",
   "execution_count": 15,
   "metadata": {
    "collapsed": false
   },
   "outputs": [],
   "source": [
    "# Generate quartile DataFrame based on Fare\n",
    "fare_quartiles = tdata_df[\"Fare\"].quantile([0, .25, .5, .75, 1])\n",
    "\n",
    "# Create Quartile value_lists based on Fare\n",
    "# Outer Lower Quartile = Top 0% - 25%\n",
    "fare_olq = [fare_quartiles[0], fare_quartiles[.25]]\n",
    "# Inner Lower Quartile = Top 25% - 50%\n",
    "fare_ilq = [fare_quartiles[.25], fare_quartiles[.5]]\n",
    "# Inner Upper Quartile = Top 50% - 75%\n",
    "fare_iuq = [fare_quartiles[.5], fare_quartiles[.75]]\n",
    "# Outer Upper Quartile = Top 75% - 100%\n",
    "fare_ouq = [fare_quartiles[.75], fare_quartiles[1]]\n"
   ]
  },
  {
   "cell_type": "code",
   "execution_count": 16,
   "metadata": {
    "collapsed": false
   },
   "outputs": [
    {
     "name": "stdout",
     "output_type": "stream",
     "text": [
      "Outer Lower Quartile Fare Passengers: 208\n",
      "Outer Lower Quartile Fare Survivors: 43\n",
      "Percent Outer Lower Quartile Fare Survived: 0.21\n",
      "\n",
      "Inner Lower Quartile Fare Passengers: 224\n",
      "Inner Lower Quartile Fare Survivors: 68\n",
      "Percent Inner Lower Quartile Fare Survived: 0.30\n",
      "\n",
      "Inner Upper Quartile Fare Passengers: 222\n",
      "Inner Upper Quartile Fare Survivors: 101\n",
      "Percent Inner Upper Quartile Fare Survived: 0.45\n",
      "\n",
      "Outer Upper Quartile Fare Passengers: 222\n",
      "Outer Upper Quartile Fare Survivors: 129\n",
      "Percent Outer Upper Quartile Fare Survived: 0.58\n",
      "\n"
     ]
    }
   ],
   "source": [
    "# Get Values\n",
    "num_fare_olq, num_fare_olq_surv, num_fare_olq_per = get_values_between(\"Fare\", fare_olq)\n",
    "num_fare_ilq, num_fare_ilq_surv, num_fare_ilq_per = get_values_between(\"Fare\", fare_ilq)\n",
    "num_fare_iuq, num_fare_iuq_surv, num_fare_iuq_per = get_values_between(\"Fare\", fare_iuq)\n",
    "num_fare_ouq, num_fare_ouq_surv, num_fare_ouq_per = get_values_between(\"Fare\", fare_ouq)\n",
    "\n",
    "# Print Survival Stats for Fare\n",
    "print_survival(num_fare_olq, num_fare_olq_surv, num_fare_olq_per, \"Outer Lower Quartile Fare\")\n",
    "print_survival(num_fare_ilq, num_fare_ilq_surv, num_fare_ilq_per, \"Inner Lower Quartile Fare\")\n",
    "print_survival(num_fare_iuq, num_fare_iuq_surv, num_fare_iuq_per, \"Inner Upper Quartile Fare\")\n",
    "print_survival(num_fare_ouq, num_fare_ouq_surv, num_fare_ouq_per, \"Outer Upper Quartile Fare\")"
   ]
  },
  {
   "cell_type": "code",
   "execution_count": 17,
   "metadata": {
    "collapsed": false
   },
   "outputs": [
    {
     "data": {
      "image/png": "[encoded data removed]",
      "text/plain": [
       "<matplotlib.figure.Figure at 0x936f898>"
      ]
     },
     "metadata": {},
     "output_type": "display_data"
    }
   ],
   "source": [
    "# Graph Percent Survivors by Fare\n",
    "plot_bar_values([num_fare_olq_per, num_fare_ilq_per, num_fare_iuq_per, num_fare_ouq_per],\n",
    "                [\"%.2f - %.2f\" % (fare_olq[0], fare_olq[1]),\n",
    "                 \"%.2f - %.2f\" % (fare_ilq[0], fare_ilq[1]),\n",
    "                 \"%.2f - %.2f\" % (fare_iuq[0], fare_iuq[1]),\n",
    "                 \"%.2f - %.2f\" % (fare_ouq[0], fare_ouq[1])],\n",
    "                \"Fare\")"
   ]
  },
  {
   "cell_type": "code",
   "execution_count": 18,
   "metadata": {
    "collapsed": false
   },
   "outputs": [
    {
     "data": {
      "image/png": "[encoded data removed]",
      "text/plain": [
       "<matplotlib.figure.Figure at 0x969eb70>"
      ]
     },
     "metadata": {},
     "output_type": "display_data"
    }
   ],
   "source": [
    "plt.hist(tdata_df[\"Fare\"], bins=20)\n",
    "\n",
    "plt.show()\n",
    "\n"
   ]
  },
  {
   "cell_type": "markdown",
   "metadata": {},
   "source": [
    "Analysis FARE:\n",
    "\n",
    "Passengers that paid more had a higher chance of survival. \n",
    "\n",
    "Note: FARE is likely directly related to CLASS; a higher class passenger could afford a higher fare."
   ]
  },
  {
   "cell_type": "markdown",
   "metadata": {},
   "source": [
    "## Percent Survivors by Embarkation"
   ]
  },
  {
   "cell_type": "code",
   "execution_count": 19,
   "metadata": {
    "collapsed": false
   },
   "outputs": [
    {
     "name": "stdout",
     "output_type": "stream",
     "text": [
      "Cherbourg Passengers: 168\n",
      "Cherbourg Survivors: 93\n",
      "Percent Cherbourg Survived: 0.55\n",
      "\n",
      "Queenstown Passengers: 77\n",
      "Queenstown Survivors: 30\n",
      "Percent Queenstown Survived: 0.39\n",
      "\n",
      "Southampton Passengers: 644\n",
      "Southampton Survivors: 217\n",
      "Percent Southampton Survived: 0.34\n",
      "\n"
     ]
    }
   ],
   "source": [
    "# Inspect factor EMBARKATION from key \"Embarked\"\n",
    "\n",
    "# Get values\n",
    "num_c, num_c_surv, num_c_per = get_values(\"Embarked\", \"C\")\n",
    "num_q, num_q_surv, num_q_per = get_values(\"Embarked\", \"Q\")\n",
    "num_s, num_s_surv, num_s_per = get_values(\"Embarked\", \"S\")\n",
    "\n",
    "# Print Survival Stats for port of Embarked\n",
    "print_survival(num_c, num_c_surv, num_c_per, \"Cherbourg\")\n",
    "print_survival(num_q, num_q_surv, num_q_per, \"Queenstown\")\n",
    "print_survival(num_s, num_s_surv, num_s_per, \"Southampton\")"
   ]
  },
  {
   "cell_type": "code",
   "execution_count": 20,
   "metadata": {
    "collapsed": false,
    "scrolled": true
   },
   "outputs": [
    {
     "data": {
      "image/png": "[encoded data removed]",
      "text/plain": [
       "<matplotlib.figure.Figure at 0x9aea940>"
      ]
     },
     "metadata": {},
     "output_type": "display_data"
    }
   ],
   "source": [
    "# Graph Percent Survivors by Embarked\n",
    "plot_bar_values([num_c_per, num_q_per, num_s_per], [\"Cherbourg\", \"Queenstown\", \"Southampton\"], \"Embarked\")"
   ]
  },
  {
   "cell_type": "markdown",
   "metadata": {
    "collapsed": true
   },
   "source": [
    "Analysis EMBARKED:\n",
    "\n",
    "Although survival rates of passengers from both Queenstown and Southampton appear to have little to no influence on the PSTS (about 1/1 ratio), passengers from Cherbourg did have a significant boost in survival percentage (just under ~1.5 times the PSTS)."
   ]
  },
  {
   "cell_type": "markdown",
   "metadata": {},
   "source": [
    "### Overall Analysis:\n",
    "\n",
    "Two Factors that were not calculated were Family Onboard (SIBSP) and Ticket # (TICKET). If SIBSP were to be calculated it would be based on 'if passenger has family onboard' as opposed to 'how much family onboard'; the dataset appears to have very few familes. TICKET has a vast array of unique values with differing ranges of digits and letters; although a function was written to dig out just the numbers it wasn't evidently clear how to approach analyzing TICKET in a sufficient way.\n",
    "\n",
    "Strong factors that influenced survival were being wealthy (CLASS and FARE), a female (SEX), and being under the age of 13 (AGE); the most influencial factor was SEX. Although this information doesn't specify as to *why* those factors increased chance of survival, the practice of extracting women and children first was likely the cause. \n",
    "\n",
    "Cherbourg (EMBARKED) was a bit of a surprise. At first guess point of origination would have no influence of survival once everybody was on the boat. Perchance Cherbourg was significantly more affluent (CLASS and FARE), had more females as passengers (SEX), had more children as passengers (AGE), or truly was those at Cherbourg were better at surviving. \n",
    "\n",
    "If the data was to be further inspected FARE and CLASS would tested for correlation. There are some Middle and Lower Class children whose fare was more expensive than some of the Upper Class adults."
   ]
  },
  {
   "cell_type": "markdown",
   "metadata": {},
   "source": [
    "##### Extra Analysis: Percent Survival of a Wealthy, High Class, Young, Female from Cherbourg"
   ]
  },
  {
   "cell_type": "code",
   "execution_count": 21,
   "metadata": {
    "collapsed": false
   },
   "outputs": [
    {
     "name": "stdout",
     "output_type": "stream",
     "text": [
      "There were 0 wealthy, high class, young, females from Cherbourg onboard the Titanic\n"
     ]
    }
   ],
   "source": [
    "# Grabbing all of the highest percents and seeing if survival is still high.\n",
    "\n",
    "# Create list FARE (Upper Outer Quartile)\n",
    "fare_ouq_list = list_maker_between(tdata, \"Fare\", fare_ouq)\n",
    "\n",
    "# Modify list for AGE (child)\n",
    "fare_age_list = list_maker_between(fare_ouq_list, \"Age\", [0, 13])\n",
    "\n",
    "# Modify list for CLASS (upper)\n",
    "fare_age_class_list = list_maker(fare_age_list, \"Pclass\", 1)\n",
    "\n",
    "# Modify list for SEX\n",
    "fare_age_class_sex_list = list_maker(fare_age_class_list, \"Sex\", \"female\")\n",
    "\n",
    "# Modify list for EMBARKED\n",
    "fare_age_class_sex_embarked_list = list_maker(fare_age_class_sex_list, \"Embarked\", \"C\")\n",
    "\n",
    "# print length of list\n",
    "print (\"There were \" + str(len(fare_age_class_sex_embarked_list)) +\n",
    "       \" wealthy, high class, young, females from Cherbourg onboard the Titanic\")"
   ]
  },
  {
   "cell_type": "markdown",
   "metadata": {},
   "source": [
    "This sample space doesn't have any anyone that fits the specifications. Going through the Data it appears class of young persons is all across the board. Let's exclude class."
   ]
  },
  {
   "cell_type": "code",
   "execution_count": 22,
   "metadata": {
    "collapsed": false
   },
   "outputs": [
    {
     "name": "stdout",
     "output_type": "stream",
     "text": [
      "Of 1 wealthy, young, female passengers from Cherbourg onboard the Titanic 1 survived.\n"
     ]
    }
   ],
   "source": [
    "# Modify fare_age_list for SEX\n",
    "fare_age_sex_list = list_maker(fare_age_list, \"Sex\", \"female\")\n",
    "\n",
    "# Modify list for EMBARKED\n",
    "fare_age_sex_embarked_list = list_maker(fare_age_sex_list, \"Embarked\", \"C\")\n",
    "\n",
    "# Check for survival\n",
    "extra_analysis = list_maker(fare_age_sex_embarked_list, \"Survived\", 1)\n",
    "\n",
    "# Print accounts that survived\n",
    "print (\"Of \" + str(len(fare_age_sex_embarked_list)) + \" wealthy, young, female passengers from Cherbourg onboard the Titanic \" \n",
    "       + str(len(extra_analysis)) + \" survived.\")"
   ]
  },
  {
   "cell_type": "markdown",
   "metadata": {
    "collapsed": true
   },
   "source": [
    "Analysis *EXTRA ANALYSIS*:\n",
    "\n",
    "100% of all wealthy, young, females from Cherbourg survived.. however there was only 1 passenger that fit this criteria. There is not enough sufficient information to to make any claims regarding this issue. "
   ]
  },
  {
   "cell_type": "code",
   "execution_count": null,
   "metadata": {
    "collapsed": true
   },
   "outputs": [],
   "source": []
  }
 ],
 "metadata": {
  "kernelspec": {
   "display_name": "Python 2",
   "language": "python",
   "name": "python2"
  },
  "language_info": {
   "codemirror_mode": {
    "name": "ipython",
    "version": 2
   },
   "file_extension": ".py",
   "mimetype": "text/x-python",
   "name": "python",
   "nbconvert_exporter": "python",
   "pygments_lexer": "ipython2",
   "version": "2.7.11"
  }
 },
 "nbformat": 4,
 "nbformat_minor": 0
}
