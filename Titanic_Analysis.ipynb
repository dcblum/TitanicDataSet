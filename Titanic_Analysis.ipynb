{
 "cells": [
  {
   "cell_type": "markdown",
   "metadata": {
    "collapsed": true
   },
   "source": [
    "## Analysis of Titanic Data\n",
    "Available [kaggle.com](https://www.kaggle.com/c/titanic/data)"
   ]
  },
  {
   "cell_type": "code",
   "execution_count": 70,
   "metadata": {
    "collapsed": false
   },
   "outputs": [
    {
     "name": "stdout",
     "output_type": "stream",
     "text": [
      "A/5 21171\n"
     ]
    }
   ],
   "source": [
    "import unicodecsv\n",
    "\n",
    "with open('titanic_data.csv', 'rb') as f:\n",
    "    reader = unicodecsv.DictReader(f)\n",
    "    tdata = list(reader)\n",
    "    \n",
    "print tdata[0]['Ticket']"
   ]
  },
  {
   "cell_type": "markdown",
   "metadata": {},
   "source": [
    "### Fix Data"
   ]
  },
  {
   "cell_type": "code",
   "execution_count": 71,
   "metadata": {
    "collapsed": false
   },
   "outputs": [
    {
     "name": "stdout",
     "output_type": "stream",
     "text": [
      "{u'Fare': 8.4583, u'Name': u'Moran, Mr. James', u'Embarked': u'Q', u'Age': None, u'Parch': u'0', u'Pclass': u'3', u'Sex': u'male', u'Survived': u'0', u'SibSp': u'0', u'PassengerId': u'6', u'Ticket': 330877, u'Cabin': u''}\n"
     ]
    }
   ],
   "source": [
    "def parse_ticket(ticket):\n",
    "    '''Takes a ticket string and returns only the numerical value of the ticket number. The numerical value is always the last\n",
    "    part of the string.'''\n",
    "    if ticket == '':\n",
    "        return None\n",
    "    else:\n",
    "        ticket_reverse_split = ticket[::-1].split(' ', 1)\n",
    "        ticket_num = ticket_reverse_split[0][::-1]\n",
    "    try:\n",
    "        return int(ticket_num)\n",
    "    except:\n",
    "        return None\n",
    "\n",
    "def parse_float(number):\n",
    "    '''Returns number stri as float. Returns \"None\" if empty'''\n",
    "    if number == \"\":\n",
    "        return None\n",
    "    return float(number) \n",
    "    \n",
    "# Clean up data in titanic data table\n",
    "for data in tdata:\n",
    "    data['Ticket'] = parse_ticket(data['Ticket'])\n",
    "    data['Age'] = parse_float(data['Age'])\n",
    "    data['Fare'] = parse_float(data['Fare'])\n",
    "    \n",
    "print tdata[5]"
   ]
  },
  {
   "cell_type": "markdown",
   "metadata": {},
   "source": [
    "### Questions:\n",
    "\n",
    "Although many question *why* the titanic sank, the main question this dataset may help with is **what factors lead to a higher rate of survival for passengers onboard the titanic?**"
   ]
  },
  {
   "cell_type": "code",
   "execution_count": null,
   "metadata": {
    "collapsed": true
   },
   "outputs": [],
   "source": []
  }
 ],
 "metadata": {
  "kernelspec": {
   "display_name": "Python 2",
   "language": "python",
   "name": "python2"
  },
  "language_info": {
   "codemirror_mode": {
    "name": "ipython",
    "version": 2
   },
   "file_extension": ".py",
   "mimetype": "text/x-python",
   "name": "python",
   "nbconvert_exporter": "python",
   "pygments_lexer": "ipython2",
   "version": "2.7.11"
  }
 },
 "nbformat": 4,
 "nbformat_minor": 0
}
