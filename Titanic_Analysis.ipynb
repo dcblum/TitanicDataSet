{
 "cells": [
  {
   "cell_type": "markdown",
   "metadata": {
    "collapsed": true
   },
   "source": [
    " # <center>Titanic Survival Statistics</center>\n",
    "<center>Available [kaggle.com](https://www.kaggle.com/c/titanic/data)</center>"
   ]
  },
  {
   "cell_type": "markdown",
   "metadata": {},
   "source": [
    "## Questions:\n",
    "\n",
    "Although many question *why* the titanic sank, the main question this dataset may help with is **what factors lead to a higher rate of survival for passengers onboard the titanic?**\n",
    "\n",
    "Factors to inspect from this data set include:\n",
    "* Class\n",
    "* Sex\n",
    "* Age\n",
    "* Family Onboard\n",
    "* Ticket #\n",
    "* Fare\n",
    "* Destination\n",
    "\n"
   ]
  },
  {
   "cell_type": "markdown",
   "metadata": {},
   "source": [
    "## Import Data"
   ]
  },
  {
   "cell_type": "code",
   "execution_count": 65,
   "metadata": {
    "collapsed": false
   },
   "outputs": [],
   "source": [
    "import unicodecsv\n",
    "\n",
    "# Read in CSV file. This definition is provided by Udacity.com, and is the only direct copy of outside code\n",
    "def read_csv(filename):\n",
    "    '''Returns a dictionary of the CSV file'''\n",
    "    with open(filename, 'rb') as f:\n",
    "        reader = unicodecsv.DictReader(f)\n",
    "        return list(reader)\n",
    "\n",
    "tdata = read_csv('titanic_data.csv')"
   ]
  },
  {
   "cell_type": "markdown",
   "metadata": {},
   "source": [
    "## Clean Data"
   ]
  },
  {
   "cell_type": "code",
   "execution_count": 66,
   "metadata": {
    "collapsed": false
   },
   "outputs": [],
   "source": [
    "def parse_ticket(ticket):\n",
    "    '''Returns int: the numerical value of the ticket string. Returns \"None\" if ticket number not at end of string'''\n",
    "    if ticket == '':\n",
    "        return None\n",
    "    else:\n",
    "        ticket_reverse_split = ticket[::-1].split(' ', 1)\n",
    "        ticket_num = ticket_reverse_split[0][::-1]\n",
    "    try:\n",
    "        return int(ticket_num)\n",
    "    except:\n",
    "        return None\n",
    "    \n",
    "def parse_int(number):\n",
    "    '''Returns number string as int. Returns \"None\" if empty'''\n",
    "    if number == \"\":\n",
    "        return None\n",
    "    return int(number)\n",
    "    \n",
    "def parse_float(number):\n",
    "    '''Returns number string as float. Returns \"None\" if empty'''\n",
    "    if number == \"\":\n",
    "        return None\n",
    "    return float(number) \n",
    "\n",
    "def parse_string(string):\n",
    "    '''Returns empty string value as \"None\"'''\n",
    "    if string == \"\":\n",
    "        return None\n",
    "    return string\n",
    "\n",
    "# Clean up data in titanic data table\n",
    "for data in tdata:\n",
    "    data['Survived'] = parse_int(data['Survived'])\n",
    "    data['Pclass'] = parse_int(data['Pclass'])\n",
    "    data['Age'] = parse_float(data['Age'])\n",
    "    data['SibSp'] = parse_int(data['SibSp'])\n",
    "    data['Parch'] = parse_int(data['Parch'])\n",
    "    data['Ticket'] = parse_ticket(data['Ticket'])\n",
    "    data['Fare'] = parse_float(data['Fare'])\n",
    "    data['Cabin'] = parse_string(data['Cabin'])\n",
    "    data['Embarked'] = parse_string(data['Embarked'])\n"
   ]
  },
  {
   "cell_type": "markdown",
   "metadata": {},
   "source": [
    "## Define Universal Functions for Data Analysis"
   ]
  },
  {
   "cell_type": "code",
   "execution_count": 71,
   "metadata": {
    "collapsed": false
   },
   "outputs": [],
   "source": [
    "# Define functions for simple analysis of data\n",
    "\n",
    "def list_maker(data, key, value):\n",
    "    '''Returns a subset of dataset with desired key value'''\n",
    "    data_true = []\n",
    "    for element in data:\n",
    "        item = []\n",
    "        if element[key] == value:\n",
    "            data_true.append(element)\n",
    "    return data_true\n",
    "\n",
    "def percent(part, whole):\n",
    "    '''Returns float percent of part / whole'''\n",
    "    return float(part)/float(whole)\n",
    "\n",
    "def get_values(key, value):\n",
    "    '''Returns 3 values from dataset in form: int(total), int(survivors), percent(float)'''\n",
    "    key_total = list_maker(tdata, key, value)\n",
    "    key_surv = list_maker(key_total, \"Survived\", 1)\n",
    "    return len(key_total), len(key_surv), percent(len(key_surv), len(key_total))\n",
    "\n",
    "def print_survival(int_whole, int_part, float_per, string):\n",
    "    print (\"%s Passengers: \" + str(int_whole)) % string\n",
    "    print (\"%s Survivors: \" + str(int_part)) % string\n",
    "    print (\"Percent %s Survived: \" + \"%.2f\" + \"\\n\") % (string, float_per)\n",
    "    \n",
    "def plot_bar_values(per_list, labels_list, key):\n",
    "    '''Plots a bar graph based on length of per_list. Each x value is labeled according to labels_list. Title of graph based\n",
    "    off key'''\n",
    "    x_values = range(1, len(labels_list)+1)\n",
    "    y_values = per_list\n",
    "\n",
    "    plt.bar(x_values, y_values, align='center', width=.5)\n",
    "    plt.xticks(x_values, labels_list)\n",
    "    plt.ylabel(\"Survival Percentage\")\n",
    "    plt.title(\"Percent Survivors by %s\" % key)\n",
    "\n",
    "    plt.show()"
   ]
  },
  {
   "cell_type": "markdown",
   "metadata": {},
   "source": [
    "## Sample Total and Percent Survived"
   ]
  },
  {
   "cell_type": "code",
   "execution_count": null,
   "metadata": {
    "collapsed": false
   },
   "outputs": [],
   "source": [
    "# Generate survivor and not_survivor lists\n",
    "survivors = list_maker(tdata, \"Survived\", 1)\n",
    "not_survivors = list_maker(tdata, \"Survived\", 0)\n",
    "\n",
    "# Find total number of passengers, survivors, and overall survival percent \n",
    "num_total = len(tdata)\n",
    "num_surv = len(survivors)\n",
    "\n",
    "# Print overall survival stats\n",
    "print_survival(num_total, num_surv, percent(num_surv, num_total), \"Sample Total\")"
   ]
  },
  {
   "cell_type": "markdown",
   "metadata": {},
   "source": [
    "## Percent Survivors by Class"
   ]
  },
  {
   "cell_type": "code",
   "execution_count": null,
   "metadata": {
    "collapsed": false
   },
   "outputs": [],
   "source": [
    "# Inspect factor CLASS from key \"Pclass\"\n",
    "\n",
    "# Get values for \n",
    "num_low, num_surv_low, num_low_per = get_values(\"Pclass\", 3)\n",
    "num_mid, num_surv_mid, num_mid_per = get_values(\"Pclass\", 2)\n",
    "num_up, num_surv_up, num_up_per = get_values(\"Pclass\", 1)\n",
    "\n",
    "# Print survival stats based on Class\n",
    "print_survival(num_low, num_surv_low, num_low_per, \"Lower Class\")\n",
    "print_survival(num_mid, num_surv_mid, num_mid_per, \"Middle Class\")\n",
    "print_survival(num_up, num_surv_up, num_up_per, \"Upper Class\")"
   ]
  },
  {
   "cell_type": "code",
   "execution_count": null,
   "metadata": {
    "collapsed": false
   },
   "outputs": [],
   "source": [
    "# Graph Percent Survivors by Class\n",
    "\n",
    "import matplotlib.pyplot as plt\n",
    "%matplotlib inline\n",
    "\n",
    "x_values = [1,2,3]\n",
    "y_values = [num_low_per, num_mid_per, num_up_per]\n",
    "labels = [\"Lower Class\", \"Middle Class\", \"Upper Class\"]\n",
    "\n",
    "plt.bar(x_values, y_values, align='center', width=.5)\n",
    "plt.xticks(x_values, labels)\n",
    "plt.ylabel(\"Survival Percentage\")\n",
    "plt.title(\"Percent Survivors by Class\")\n",
    "\n",
    "plt.show()"
   ]
  },
  {
   "cell_type": "markdown",
   "metadata": {
    "collapsed": true
   },
   "source": [
    "## Percent Survivors by Gender"
   ]
  },
  {
   "cell_type": "code",
   "execution_count": null,
   "metadata": {
    "collapsed": false
   },
   "outputs": [],
   "source": [
    "# Inspect factor SEX from key \"Sex\"\n",
    "\n",
    "# Get values\n",
    "num_male, num_male_surv, num_male_per = get_values(\"Sex\", \"male\")\n",
    "num_female, num_female_surv, num_female_per = get_values(\"Sex\", \"female\")\n",
    "\n",
    "# Print stats \n",
    "print_survival(num_male, num_male_surv, num_male_per, \"Male\")\n",
    "print_survival(num_female, num_female_surv, num_female_per, \"Female\")"
   ]
  },
  {
   "cell_type": "code",
   "execution_count": null,
   "metadata": {
    "collapsed": false
   },
   "outputs": [],
   "source": [
    "# Graph Percent Survivors by Sex\n",
    "\n",
    "x_values = [1,2]\n",
    "y_values = [num_male_per, num_female_per]\n",
    "labels = [\"Male\", \"Female\"]\n",
    "\n",
    "plt.bar(x_values, y_values, align='center', width=.5)\n",
    "plt.xticks(x_values, labels)\n",
    "plt.ylabel(\"Survival Percentage\")\n",
    "plt.title(\"Percent Survivors by Sex\")\n",
    "\n",
    "plt.show()"
   ]
  },
  {
   "cell_type": "markdown",
   "metadata": {},
   "source": [
    "## Percent Survivors by Embarkation"
   ]
  },
  {
   "cell_type": "code",
   "execution_count": null,
   "metadata": {
    "collapsed": false
   },
   "outputs": [],
   "source": [
    "# Inspect factor EMBARKATION from key \"Embarked\"\n",
    "\n",
    "# Get values\n",
    "num_c, num_c_surv, num_c_per = get_values(\"Embarked\", \"C\")\n",
    "num_q, num_q_surv, num_q_per = get_values(\"Embarked\", \"Q\")\n",
    "num_s, num_s_surv, num_s_per = get_values(\"Embarked\", \"S\")\n",
    "\n",
    "# Print Survival Stats for port of Embarked\n",
    "print_stats(num_c, num_c_surv, num_c_per, \"Cherbourg\")\n",
    "print_stats(num_q, num_q_surv, num_q_per, \"Queenstown\")\n",
    "print_stats(num_s, num_s_surv, num_s_per, \"Southampton\")\n",
    "\n"
   ]
  },
  {
   "cell_type": "code",
   "execution_count": null,
   "metadata": {
    "collapsed": false
   },
   "outputs": [],
   "source": [
    "# Graph Percent Survivors by Embarked\n",
    "\n",
    "x_values = [1,2,3]\n",
    "y_values = [num_c_per, num_q_per, num_s_per]\n",
    "labels = [\"Cherbourg\", \"Queenstown\", \"Southampton\"]\n",
    "\n",
    "plt.bar(x_values, y_values, align='center', width=.5)\n",
    "plt.xticks(x_values, labels)\n",
    "plt.ylabel(\"Survival Percentage\")\n",
    "plt.title(\"Percent Survivors by Port of Embarkation\")\n",
    "\n",
    "plt.show()"
   ]
  },
  {
   "cell_type": "code",
   "execution_count": null,
   "metadata": {
    "collapsed": true
   },
   "outputs": [],
   "source": []
  }
 ],
 "metadata": {
  "kernelspec": {
   "display_name": "Python 2",
   "language": "python",
   "name": "python2"
  },
  "language_info": {
   "codemirror_mode": {
    "name": "ipython",
    "version": 2
   },
   "file_extension": ".py",
   "mimetype": "text/x-python",
   "name": "python",
   "nbconvert_exporter": "python",
   "pygments_lexer": "ipython2",
   "version": "2.7.11"
  }
 },
 "nbformat": 4,
 "nbformat_minor": 0
}
