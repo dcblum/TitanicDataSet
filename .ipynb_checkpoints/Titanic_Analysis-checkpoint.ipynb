{
 "cells": [
  {
   "cell_type": "markdown",
   "metadata": {
    "collapsed": true
   },
   "source": [
    "## Analysis of Titanic Data\n",
    "Available [kaggle.com](https://www.kaggle.com/c/titanic/data)"
   ]
  },
  {
   "cell_type": "code",
   "execution_count": 191,
   "metadata": {
    "collapsed": false
   },
   "outputs": [
    {
     "name": "stdout",
     "output_type": "stream",
     "text": [
      "{u'Fare': u'7.25', u'Name': u'Braund, Mr. Owen Harris', u'Embarked': u'S', u'Age': u'22', u'Parch': u'0', u'Pclass': u'3', u'Sex': u'male', u'Survived': u'0', u'SibSp': u'1', u'PassengerId': u'1', u'Ticket': u'A/5 21171', u'Cabin': u''}\n"
     ]
    }
   ],
   "source": [
    "import unicodecsv\n",
    "\n",
    "with open('titanic_data.csv', 'rb') as f:\n",
    "    reader = unicodecsv.DictReader(f)\n",
    "    tdata = list(reader)\n",
    "    \n",
    "print tdata[0]"
   ]
  },
  {
   "cell_type": "markdown",
   "metadata": {},
   "source": [
    "### Fix Data"
   ]
  },
  {
   "cell_type": "code",
   "execution_count": 192,
   "metadata": {
    "collapsed": false
   },
   "outputs": [
    {
     "name": "stdout",
     "output_type": "stream",
     "text": [
      "{u'Fare': 8.4583, u'Name': u'Moran, Mr. James', u'Embarked': u'Q', u'Age': None, u'Parch': 0, u'Pclass': 3, u'Sex': u'male', u'Survived': 0, u'SibSp': 0, u'PassengerId': u'6', u'Ticket': 330877, u'Cabin': None}\n"
     ]
    }
   ],
   "source": [
    "def parse_ticket(ticket):\n",
    "    '''Takes a ticket string and returns only the numerical value of the ticket number. The numerical value is always the last\n",
    "    part of the string.'''\n",
    "    if ticket == '':\n",
    "        return None\n",
    "    else:\n",
    "        ticket_reverse_split = ticket[::-1].split(' ', 1)\n",
    "        ticket_num = ticket_reverse_split[0][::-1]\n",
    "    try:\n",
    "        return int(ticket_num)\n",
    "    except:\n",
    "        return None\n",
    "    \n",
    "def parse_int(number):\n",
    "    '''Returns number string as int. Returns \"None\" if empty'''\n",
    "    if number == \"\":\n",
    "        return None\n",
    "    return int(number)\n",
    "    \n",
    "def parse_float(number):\n",
    "    '''Returns number string as float. Returns \"None\" if empty'''\n",
    "    if number == \"\":\n",
    "        return None\n",
    "    return float(number) \n",
    "\n",
    "def parse_string(string):\n",
    "    '''Returns empty string value as \"None\"'''\n",
    "    if string == \"\":\n",
    "        return None\n",
    "    return string\n",
    "\n",
    "# Clean up data in titanic data table\n",
    "for data in tdata:\n",
    "    data['Survived'] = parse_int(data['Survived'])\n",
    "    data['Pclass'] = parse_int(data['Pclass'])\n",
    "    data['Age'] = parse_float(data['Age'])\n",
    "    data['SibSp'] = parse_int(data['SibSp'])\n",
    "    data['Parch'] = parse_int(data['Parch'])\n",
    "    data['Ticket'] = parse_ticket(data['Ticket'])\n",
    "    data['Fare'] = parse_float(data['Fare'])\n",
    "    data['Cabin'] = parse_string(data['Cabin'])\n",
    "    data['Embarked'] = parse_string(data['Embarked'])\n",
    "    \n",
    "print tdata[5]"
   ]
  },
  {
   "cell_type": "markdown",
   "metadata": {},
   "source": [
    "### Questions:\n",
    "\n",
    "Although many question *why* the titanic sank, the main question this dataset may help with is **what factors lead to a higher rate of survival for passengers onboard the titanic?**\n",
    "\n",
    "Factors to inspect from this data set include:\n",
    "* Class\n",
    "* Sex\n",
    "* Age\n",
    "* Family Onboard\n",
    "* Ticket #\n",
    "* Fare\n",
    "\n"
   ]
  },
  {
   "cell_type": "code",
   "execution_count": 193,
   "metadata": {
    "collapsed": false
   },
   "outputs": [],
   "source": [
    "# Define function to generate lists\n",
    "def list_maker(data, key, value):\n",
    "    '''Returns dataset with desired key value'''\n",
    "    data_true = []\n",
    "    for element in data:\n",
    "        item = []\n",
    "        if element[key] == value:\n",
    "            data_true.append(element)\n",
    "    return data_true\n",
    "\n",
    "# Generate survivor and not_survivor lists\n",
    "survivors = list_maker(tdata, \"Survived\", 1)\n",
    "not_survivors = list_maker(tdata, \"Survived\", 0)"
   ]
  },
  {
   "cell_type": "code",
   "execution_count": 194,
   "metadata": {
    "collapsed": false
   },
   "outputs": [],
   "source": [
    "# Inspect factor CLASS from key \"Pclass\"\n",
    "    \n",
    "# Find number of survivors based on class\n",
    "num_surv_low = len(list_maker(survivors, \"Pclass\", 3))\n",
    "num_surv_mid = len(list_maker(survivors, \"Pclass\", 2))\n",
    "num_surv_up = len(list_maker(survivors, \"Pclass\", 1))"
   ]
  },
  {
   "cell_type": "code",
   "execution_count": 198,
   "metadata": {
    "collapsed": false
   },
   "outputs": [
    {
     "data": {
      "image/png": "[encoded data removed]",
      "text/plain": [
       "<matplotlib.figure.Figure at 0xb470908>"
      ]
     },
     "metadata": {},
     "output_type": "display_data"
    }
   ],
   "source": [
    "import matplotlib.pyplot as plt\n",
    "%matplotlib inline\n",
    "\n",
    "x_values = [1,2,3]\n",
    "y_values = [num_surv_low/float(len(survivors)), num_surv_mid/float(len(survivors)), num_surv_up/float(len(survivors))]\n",
    "labels = [\"Lower Class\", \"Middle Class\", \"Upper Class\"]\n",
    "\n",
    "plt.bar(x_values, y_values, align='center', width=.5)\n",
    "plt.xticks(x_values, labels)\n",
    "plt.ylabel(\"% Survived\")\n",
    "plt.title(\"Percent Survivors by Class\")\n",
    "\n",
    "plt.show()"
   ]
  },
  {
   "cell_type": "code",
   "execution_count": null,
   "metadata": {
    "collapsed": true
   },
   "outputs": [],
   "source": []
  }
 ],
 "metadata": {
  "kernelspec": {
   "display_name": "Python 2",
   "language": "python",
   "name": "python2"
  },
  "language_info": {
   "codemirror_mode": {
    "name": "ipython",
    "version": 2
   },
   "file_extension": ".py",
   "mimetype": "text/x-python",
   "name": "python",
   "nbconvert_exporter": "python",
   "pygments_lexer": "ipython2",
   "version": "2.7.11"
  }
 },
 "nbformat": 4,
 "nbformat_minor": 0
}
