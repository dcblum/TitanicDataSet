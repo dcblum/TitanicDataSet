{
 "cells": [
  {
   "cell_type": "markdown",
   "metadata": {
    "collapsed": true
   },
   "source": [
    " # <center>Titanic Survival Statistics</center>\n",
    "<center>Available [kaggle.com](https://www.kaggle.com/c/titanic/data)</center>"
   ]
  },
  {
   "cell_type": "markdown",
   "metadata": {},
   "source": [
    "## Questions:\n",
    "\n",
    "Although many question *why* the titanic sank, the main question this dataset may help with is **what factors lead to a higher rate of survival for passengers onboard the titanic?**\n",
    "\n",
    "Factors to inspect from this data set include:\n",
    "* Class\n",
    "* Sex\n",
    "* Age\n",
    "* Family Onboard\n",
    "* Ticket #\n",
    "* Fare\n",
    "* Embarkation\n",
    "\n"
   ]
  },
  {
   "cell_type": "markdown",
   "metadata": {},
   "source": [
    "## Import Data"
   ]
  },
  {
   "cell_type": "code",
   "execution_count": 218,
   "metadata": {
    "collapsed": false
   },
   "outputs": [],
   "source": [
    "import unicodecsv\n",
    "\n",
    "# Read in CSV file. This definition is provided by Udacity.com, and is the only direct copy of outside code\n",
    "def read_csv(filename):\n",
    "    '''Returns a dictionary of the CSV file'''\n",
    "    with open(filename, 'rb') as f:\n",
    "        reader = unicodecsv.DictReader(f)\n",
    "        return list(reader)\n",
    "\n",
    "tdata = read_csv('titanic_data.csv')"
   ]
  },
  {
   "cell_type": "markdown",
   "metadata": {},
   "source": [
    "## Clean Data"
   ]
  },
  {
   "cell_type": "code",
   "execution_count": 219,
   "metadata": {
    "collapsed": false
   },
   "outputs": [],
   "source": [
    "def parse_ticket(ticket):\n",
    "    '''Returns int: the numerical value of the ticket string. Returns \"None\" if ticket number not at end of string'''\n",
    "    if ticket == '':\n",
    "        return None\n",
    "    else:\n",
    "        ticket_reverse_split = ticket[::-1].split(' ', 1)\n",
    "        ticket_num = ticket_reverse_split[0][::-1]\n",
    "    try:\n",
    "        return int(ticket_num)\n",
    "    except:\n",
    "        return None\n",
    "    \n",
    "def parse_int(number):\n",
    "    '''Returns number string as int. Returns \"None\" if empty'''\n",
    "    if number == \"\":\n",
    "        return None\n",
    "    return int(number)\n",
    "    \n",
    "def parse_float(number):\n",
    "    '''Returns number string as float. Returns \"None\" if empty'''\n",
    "    if number == \"\":\n",
    "        return None\n",
    "    return float(number) \n",
    "\n",
    "def parse_string(string):\n",
    "    '''Returns empty string value as \"None\"'''\n",
    "    if string == \"\":\n",
    "        return None\n",
    "    return string\n",
    "\n",
    "# Clean up data in titanic data table\n",
    "for data in tdata:\n",
    "    data['Survived'] = parse_int(data['Survived'])\n",
    "    data['Pclass'] = parse_int(data['Pclass'])\n",
    "    data['Age'] = parse_float(data['Age'])\n",
    "    data['SibSp'] = parse_int(data['SibSp'])\n",
    "    data['Parch'] = parse_int(data['Parch'])\n",
    "    data['Ticket'] = parse_ticket(data['Ticket'])\n",
    "    data['Fare'] = parse_float(data['Fare'])\n",
    "    data['Cabin'] = parse_string(data['Cabin'])\n",
    "    data['Embarked'] = parse_string(data['Embarked'])\n"
   ]
  },
  {
   "cell_type": "markdown",
   "metadata": {},
   "source": [
    "## Define Universal Functions for Data Analysis"
   ]
  },
  {
   "cell_type": "code",
   "execution_count": 220,
   "metadata": {
    "collapsed": false
   },
   "outputs": [],
   "source": [
    "# Define functions for simple analysis of data\n",
    "\n",
    "def list_maker(data, key, value):\n",
    "    '''Returns a subset of dataset with desired key value'''\n",
    "    data_true = []\n",
    "    for element in data:\n",
    "        item = []\n",
    "        if element[key] == value:\n",
    "            data_true.append(element)\n",
    "    return data_true\n",
    "\n",
    "def list_maker_between(data, key, range_list):\n",
    "    '''Returns a subset of dataset with key value between range_list. Range_list must be in the form [float1, float2]. Float1\n",
    "    not included in calculation'''\n",
    "    data_true = []\n",
    "    for element in data:\n",
    "        item = []\n",
    "        if (element[key] > range_list[0]) and (element[key] <= range_list[1]):\n",
    "            data_true.append(element)\n",
    "    return data_true\n",
    "\n",
    "def percent(part, whole):\n",
    "    '''Returns float percent of part / whole'''\n",
    "    return float(part)/float(whole)\n",
    "\n",
    "def get_values(key, value):\n",
    "    '''Returns 3 values from dataset in form: int(total), int(survivors), percent(float)'''\n",
    "    key_total = list_maker(tdata, key, value)\n",
    "    key_surv = list_maker(key_total, \"Survived\", 1)\n",
    "    return len(key_total), len(key_surv), percent(len(key_surv), len(key_total))\n",
    "\n",
    "def print_survival(int_whole, int_part, float_per, string):\n",
    "    print (\"%s Passengers: \" + str(int_whole)) % string\n",
    "    print (\"%s Survivors: \" + str(int_part)) % string\n",
    "    print (\"Percent %s Survived: \" + \"%.2f\" + \"\\n\") % (string, float_per)\n",
    "    \n",
    "def plot_bar_values(per_list, labels_list, key):\n",
    "    '''Plots a bar graph based on length of per_list which acts as yvalues. Each x value is labeled according to labels_list. \n",
    "    Title of graph based off key'''\n",
    "    x_values = range(1, len(labels_list)+1)\n",
    "    y_values = per_list\n",
    "\n",
    "    plt.bar(x_values, y_values, align='center', width=.5)\n",
    "    plt.xticks(x_values, labels_list)\n",
    "    plt.ylabel(\"Survival Percentage\")\n",
    "    plt.title(\"Percent Survivors by %s\" % key)\n",
    "\n",
    "    plt.show()"
   ]
  },
  {
   "cell_type": "markdown",
   "metadata": {},
   "source": [
    "## Sample Total and Percent Survived"
   ]
  },
  {
   "cell_type": "code",
   "execution_count": 221,
   "metadata": {
    "collapsed": false
   },
   "outputs": [
    {
     "name": "stdout",
     "output_type": "stream",
     "text": [
      "Sample Total Passengers: 891\n",
      "Sample Total Survivors: 342\n",
      "Percent Sample Total Survived: 0.38\n",
      "\n"
     ]
    }
   ],
   "source": [
    "# Generate survivor and not_survivor lists\n",
    "survivors = list_maker(tdata, \"Survived\", 1)\n",
    "not_survivors = list_maker(tdata, \"Survived\", 0)\n",
    "\n",
    "# Find total number of passengers, survivors, and overall survival percent \n",
    "num_total = len(tdata)\n",
    "num_surv = len(survivors)\n",
    "\n",
    "# Print overall survival stats\n",
    "print_survival(num_total, num_surv, percent(num_surv, num_total), \"Sample Total\")"
   ]
  },
  {
   "cell_type": "markdown",
   "metadata": {},
   "source": [
    "## Percent Survivors by Class"
   ]
  },
  {
   "cell_type": "code",
   "execution_count": 222,
   "metadata": {
    "collapsed": false
   },
   "outputs": [
    {
     "name": "stdout",
     "output_type": "stream",
     "text": [
      "Lower Class Passengers: 491\n",
      "Lower Class Survivors: 119\n",
      "Percent Lower Class Survived: 0.24\n",
      "\n",
      "Middle Class Passengers: 184\n",
      "Middle Class Survivors: 87\n",
      "Percent Middle Class Survived: 0.47\n",
      "\n",
      "Upper Class Passengers: 216\n",
      "Upper Class Survivors: 136\n",
      "Percent Upper Class Survived: 0.63\n",
      "\n"
     ]
    }
   ],
   "source": [
    "# Inspect factor CLASS from key \"Pclass\"\n",
    "\n",
    "# Get values for \n",
    "num_low, num_surv_low, num_low_per = get_values(\"Pclass\", 3)\n",
    "num_mid, num_surv_mid, num_mid_per = get_values(\"Pclass\", 2)\n",
    "num_up, num_surv_up, num_up_per = get_values(\"Pclass\", 1)\n",
    "\n",
    "# Print survival stats based on Class\n",
    "print_survival(num_low, num_surv_low, num_low_per, \"Lower Class\")\n",
    "print_survival(num_mid, num_surv_mid, num_mid_per, \"Middle Class\")\n",
    "print_survival(num_up, num_surv_up, num_up_per, \"Upper Class\")"
   ]
  },
  {
   "cell_type": "code",
   "execution_count": 223,
   "metadata": {
    "collapsed": false
   },
   "outputs": [
    {
     "data": {
      "image/png": "[encoded data removed]",
      "text/plain": [
       "<matplotlib.figure.Figure at 0xc34c358>"
      ]
     },
     "metadata": {},
     "output_type": "display_data"
    }
   ],
   "source": [
    "# Graph Percent Survivors by Class\n",
    "\n",
    "import matplotlib.pyplot as plt\n",
    "%matplotlib inline\n",
    "\n",
    "plot_bar_values([num_low_per, num_mid_per, num_up_per ], [\"Lower Class\", \"Middle Class\", \"Upper Class\"], \"Class\")"
   ]
  },
  {
   "cell_type": "markdown",
   "metadata": {
    "collapsed": true
   },
   "source": [
    "## Percent Survivors by Sex"
   ]
  },
  {
   "cell_type": "code",
   "execution_count": 224,
   "metadata": {
    "collapsed": false
   },
   "outputs": [
    {
     "name": "stdout",
     "output_type": "stream",
     "text": [
      "Male Passengers: 577\n",
      "Male Survivors: 109\n",
      "Percent Male Survived: 0.19\n",
      "\n",
      "Female Passengers: 314\n",
      "Female Survivors: 233\n",
      "Percent Female Survived: 0.74\n",
      "\n"
     ]
    }
   ],
   "source": [
    "# Inspect factor SEX from key \"Sex\"\n",
    "\n",
    "# Get values\n",
    "num_male, num_male_surv, num_male_per = get_values(\"Sex\", \"male\")\n",
    "num_female, num_female_surv, num_female_per = get_values(\"Sex\", \"female\")\n",
    "\n",
    "# Print stats \n",
    "print_survival(num_male, num_male_surv, num_male_per, \"Male\")\n",
    "print_survival(num_female, num_female_surv, num_female_per, \"Female\")"
   ]
  },
  {
   "cell_type": "code",
   "execution_count": 225,
   "metadata": {
    "collapsed": false
   },
   "outputs": [
    {
     "data": {
      "image/png": "[encoded data removed]",
      "text/plain": [
       "<matplotlib.figure.Figure at 0xc33de10>"
      ]
     },
     "metadata": {},
     "output_type": "display_data"
    }
   ],
   "source": [
    "# Graph Percent Survivors by Sex\n",
    "\n",
    "plot_bar_values([num_male_per, num_female_per], [\"Male\", \"Female\"], \"Sex\")"
   ]
  },
  {
   "cell_type": "markdown",
   "metadata": {},
   "source": [
    "## Percent Survivors by Embarkation"
   ]
  },
  {
   "cell_type": "code",
   "execution_count": 226,
   "metadata": {
    "collapsed": false
   },
   "outputs": [
    {
     "name": "stdout",
     "output_type": "stream",
     "text": [
      "Cherbourg Passengers: 168\n",
      "Cherbourg Survivors: 93\n",
      "Percent Cherbourg Survived: 0.55\n",
      "\n",
      "Queenstown Passengers: 77\n",
      "Queenstown Survivors: 30\n",
      "Percent Queenstown Survived: 0.39\n",
      "\n",
      "Southampton Passengers: 644\n",
      "Southampton Survivors: 217\n",
      "Percent Southampton Survived: 0.34\n",
      "\n"
     ]
    }
   ],
   "source": [
    "# Inspect factor EMBARKATION from key \"Embarked\"\n",
    "\n",
    "# Get values\n",
    "num_c, num_c_surv, num_c_per = get_values(\"Embarked\", \"C\")\n",
    "num_q, num_q_surv, num_q_per = get_values(\"Embarked\", \"Q\")\n",
    "num_s, num_s_surv, num_s_per = get_values(\"Embarked\", \"S\")\n",
    "\n",
    "# Print Survival Stats for port of Embarked\n",
    "print_stats(num_c, num_c_surv, num_c_per, \"Cherbourg\")\n",
    "print_stats(num_q, num_q_surv, num_q_per, \"Queenstown\")\n",
    "print_stats(num_s, num_s_surv, num_s_per, \"Southampton\")\n",
    "\n"
   ]
  },
  {
   "cell_type": "code",
   "execution_count": 227,
   "metadata": {
    "collapsed": false
   },
   "outputs": [
    {
     "data": {
      "image/png": "[encoded data removed]",
      "text/plain": [
       "<matplotlib.figure.Figure at 0x9055e48>"
      ]
     },
     "metadata": {},
     "output_type": "display_data"
    }
   ],
   "source": [
    "# Graph Percent Survivors by Embarked\n",
    "plot_bar_values([num_c_per, num_q_per, num_s_per], [\"Cherbourg\", \"Queenstown\", \"Southampton\"], \"Embarked\")"
   ]
  },
  {
   "cell_type": "markdown",
   "metadata": {},
   "source": [
    "## Percent Survivors by Fare"
   ]
  },
  {
   "cell_type": "code",
   "execution_count": 233,
   "metadata": {
    "collapsed": false
   },
   "outputs": [
    {
     "name": "stdout",
     "output_type": "stream",
     "text": [
      "Mean Fare: $32.20\n",
      "STD Fare: $49.69\n",
      "Median Fare: $14.45\n"
     ]
    }
   ],
   "source": [
    "import pandas as pd\n",
    "\n",
    "# Read csv file as DataFrame to calculate mean, std, and quartile data\n",
    "tdata_df = pd.read_csv('titanic_data.csv')\n",
    "\n",
    "fare_mean = tdata_df[\"Fare\"].mean()\n",
    "fare_std = tdata_df[\"Fare\"].std()\n",
    "fare_median = tdata_df[\"Fare\"].median()\n",
    "\n",
    "print \"Mean Fare: $\" + \"%.2f\" % fare_mean\n",
    "print \"STD Fare: $\" + \"%.2f\" % fare_std\n",
    "print \"Median Fare: $\" + \"%.2f\" % fare_median"
   ]
  },
  {
   "cell_type": "markdown",
   "metadata": {},
   "source": [
    "The median is close to half a standard deviation to the left; this indicates data is heavily influenced by a few large outliers. \n",
    "To better analyze data will be split into quartiles."
   ]
  },
  {
   "cell_type": "code",
   "execution_count": null,
   "metadata": {
    "collapsed": true
   },
   "outputs": [],
   "source": [
    "# Find quartiles\n",
    "fare_quartiles = tdata_df[\"Fare\"].quantile([0, .25, .5, .75, 1])\n",
    "\n",
    "# Assign Quartiles\n",
    "# Outer Lower Quartile = Top 0% - 25%\n",
    "fare_olq = list_maker_between(tdata, \"Fare\", [fare_quartiles[0], fare_quartiles[.25]])\n",
    "# Inner Lower Quartile = Top 25% - 50%\n",
    "fare_ilq = list_maker_between(tdata, \"Fare\", [fare_quartiles[.25], fare_quartiles[.5]])\n",
    "# Inner Upper Quartile = Top 50% - 75%\n",
    "fare_iuq = list_maker_between(tdata, \"Fare\", [fare_quartiles[.5], fare_quartiles[.75]])\n",
    "# Outer Upper Quartile = Top 75% - 100%\n",
    "fare_outer_upper_quart = list_maker_between(tdata, \"Fare\", [fare_quartiles[.75], fare_quartiles[1]])\n",
    "\n",
    "\n",
    "print len(fare_lower_quart)\n",
    "print len(fare__inner_lower_quart)\n",
    "print len(fare_inner_upper_quart)\n",
    "print len(fare_outer_upper_quart)"
   ]
  }
 ],
 "metadata": {
  "kernelspec": {
   "display_name": "Python 2",
   "language": "python",
   "name": "python2"
  },
  "language_info": {
   "codemirror_mode": {
    "name": "ipython",
    "version": 2
   },
   "file_extension": ".py",
   "mimetype": "text/x-python",
   "name": "python",
   "nbconvert_exporter": "python",
   "pygments_lexer": "ipython2",
   "version": "2.7.11"
  }
 },
 "nbformat": 4,
 "nbformat_minor": 0
}
