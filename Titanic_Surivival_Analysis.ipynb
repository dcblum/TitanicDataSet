{
 "cells": [
  {
   "cell_type": "markdown",
   "metadata": {
    "collapsed": true
   },
   "source": [
    " # <center>Titanic Survival Statistics</center>"
   ]
  },
  {
   "cell_type": "markdown",
   "metadata": {},
   "source": [
    "This document is desinged to assess 5 of the 8 factors that lead to a passenger's survival onboard the Titanic as per data collected  [here](https://www.kaggle.com/c/titanic/data).\n",
    "\n",
    "Factors:\n",
    "* Class\n",
    "* Sex\n",
    "* Age\n",
    "* Family Onboard (Not inspected here)\n",
    "* Ticket # (Not inspected here)\n",
    "* Fare\n",
    "* Cabin (Not inspected here)\n",
    "* Embarked"
   ]
  },
  {
   "cell_type": "markdown",
   "metadata": {},
   "source": [
    "## Import Data"
   ]
  },
  {
   "cell_type": "code",
   "execution_count": 1,
   "metadata": {
    "collapsed": false
   },
   "outputs": [],
   "source": [
    "import unicodecsv\n",
    "import pandas as pd\n",
    "import matplotlib.pyplot as plt\n",
    "\n",
    "# Allow plots to show inline in notebook\n",
    "%matplotlib inline\n",
    "\n",
    "# Read in CSV file. This definition is provided by Udacity.com, and is the only direct copy of outside code\n",
    "def read_csv(filename):\n",
    "    '''Returns a dictionary of the CSV file'''\n",
    "    with open(filename, 'rb') as f:\n",
    "        reader = unicodecsv.DictReader(f)\n",
    "        return list(reader)\n",
    "\n",
    "tdata = read_csv('titanic_data.csv')"
   ]
  },
  {
   "cell_type": "markdown",
   "metadata": {},
   "source": [
    "## Clean Data"
   ]
  },
  {
   "cell_type": "code",
   "execution_count": 2,
   "metadata": {
    "collapsed": false
   },
   "outputs": [],
   "source": [
    "def parse_ticket(ticket):\n",
    "    '''Returns int: the numerical value of the ticket string. Returns \"None\" if ticket number not at end of string'''\n",
    "    if ticket == '':\n",
    "        return None\n",
    "    else:\n",
    "        ticket_reverse_split = ticket[::-1].split(' ', 1)\n",
    "        ticket_num = ticket_reverse_split[0][::-1]\n",
    "    try:\n",
    "        return int(ticket_num)\n",
    "    except:\n",
    "        return None\n",
    "    \n",
    "def parse_int(number):\n",
    "    '''Returns number string as int. Returns \"None\" if empty'''\n",
    "    if number == \"\":\n",
    "        return None\n",
    "    return int(number)\n",
    "    \n",
    "def parse_float(number):\n",
    "    '''Returns number string as float. Returns \"None\" if empty'''\n",
    "    if number == \"\":\n",
    "        return None\n",
    "    return float(number) \n",
    "\n",
    "def parse_string(string):\n",
    "    '''Returns empty string value as \"None\"'''\n",
    "    if string == \"\":\n",
    "        return None\n",
    "    return string\n",
    "\n",
    "# Clean up data in titanic data table\n",
    "for data in tdata:\n",
    "    data['Survived'] = parse_int(data['Survived'])\n",
    "    data['Pclass'] = parse_int(data['Pclass'])\n",
    "    data['Age'] = parse_float(data['Age'])\n",
    "    data['SibSp'] = parse_int(data['SibSp'])\n",
    "    data['Parch'] = parse_int(data['Parch'])\n",
    "    data['Ticket'] = parse_ticket(data['Ticket'])\n",
    "    data['Fare'] = parse_float(data['Fare'])\n",
    "    data['Cabin'] = parse_string(data['Cabin'])\n",
    "    data['Embarked'] = parse_string(data['Embarked'])\n"
   ]
  },
  {
   "cell_type": "code",
   "execution_count": 3,
   "metadata": {
    "collapsed": true
   },
   "outputs": [],
   "source": [
    "# Create DataFrame from cleaned data use with pandas\n",
    "tdata_df = pd.DataFrame(tdata)"
   ]
  },
  {
   "cell_type": "markdown",
   "metadata": {},
   "source": [
    "## Define Universal Functions for Data Analysis"
   ]
  },
  {
   "cell_type": "code",
   "execution_count": 4,
   "metadata": {
    "collapsed": false
   },
   "outputs": [],
   "source": [
    "def key_df_stats(key):\n",
    "    '''Prints Total Passengers and Percent Survivial by key string and drops NaN values from Data Frame'''\n",
    "    key_df = tdata_df.groupby(key, as_index=False).apply(lambda x: x)\n",
    "    survivors = key_df[\"Survived\"].dropna()\n",
    "    print \"Total Passengers by %s: \" % key + str(len(survivors))\n",
    "    print \"Percent Survival by %s: \" % key + str(survivors.mean()) \n",
    "\n",
    "def plot_bar_values(per_list, labels_list, key):\n",
    "    '''Plots a bar graph based on length of per_list which acts as yvalues. Each x value is labeled according to labels_list. \n",
    "    Title of graph based off key'''\n",
    "    x_values = range(1, len(labels_list)+1)\n",
    "    y_values = per_list\n",
    "\n",
    "    plt.bar(x_values, y_values, align='center', width=.5)\n",
    "    plt.xticks(x_values, labels_list)\n",
    "    plt.ylabel(\"Survival Percentage\")\n",
    "    plt.title(\"Percent Survivors by %s\" % key)\n",
    "\n",
    "    plt.show()"
   ]
  },
  {
   "cell_type": "markdown",
   "metadata": {},
   "source": [
    "## Percent Sample Total Survived (PSTS)"
   ]
  },
  {
   "cell_type": "code",
   "execution_count": 5,
   "metadata": {
    "collapsed": false
   },
   "outputs": [
    {
     "name": "stdout",
     "output_type": "stream",
     "text": [
      "Total Passengers by Survived: 891\n",
      "Percent Survival by Survived: 0.383838383838\n"
     ]
    }
   ],
   "source": [
    "# Find stats from Survived\n",
    "key_df_stats(\"Survived\")"
   ]
  },
  {
   "cell_type": "markdown",
   "metadata": {},
   "source": [
    "A passenger on the Titanic chosen at random would have a 38% chance of survival."
   ]
  },
  {
   "cell_type": "markdown",
   "metadata": {},
   "source": [
    "## Percent Survivors by Class"
   ]
  },
  {
   "cell_type": "code",
   "execution_count": 6,
   "metadata": {
    "collapsed": false
   },
   "outputs": [
    {
     "name": "stdout",
     "output_type": "stream",
     "text": [
      "Total Passengers by Pclass: 891\n",
      "Percent Survival by Pclass: 0.383838383838\n"
     ]
    }
   ],
   "source": [
    "# Inspect factor CLASS from key \"Pclass\"\n",
    "key_df_stats(\"Pclass\")"
   ]
  },
  {
   "cell_type": "markdown",
   "metadata": {},
   "source": [
    "Passengers with CLASS information had a 38% chance of survival; this is the same as the PSTS."
   ]
  },
  {
   "cell_type": "code",
   "execution_count": 7,
   "metadata": {
    "collapsed": false
   },
   "outputs": [
    {
     "name": "stdout",
     "output_type": "stream",
     "text": [
      "Lower Class Survival: 0.24\n",
      "Middle Class Survival: 0.47\n",
      "Upper Class Survival: 0.63\n"
     ]
    }
   ],
   "source": [
    "# Find Percent Survival based on CLASS\n",
    "lower_surv_df = tdata_df[[\"Pclass\", \"Survived\"]].query(\"Pclass == 3\")\n",
    "lower_surv_per = lower_surv_df[\"Survived\"].dropna().mean()\n",
    "print \"Lower Class Survival: %.2f\" % lower_surv_per\n",
    "\n",
    "middle_surv_df = tdata_df[[\"Pclass\", \"Survived\"]].query(\"Pclass == 2\")\n",
    "middle_surv_per = middle_surv_df[\"Survived\"].dropna().mean()\n",
    "print \"Middle Class Survival: %.2f\" % middle_surv_per\n",
    "\n",
    "upper_surv_df = tdata_df[[\"Pclass\", \"Survived\"]].query(\"Pclass == 1\")\n",
    "upper_surv_per = upper_surv_df[\"Survived\"].dropna().mean()\n",
    "print \"Upper Class Survival: %.2f\" % upper_surv_per"
   ]
  },
  {
   "cell_type": "code",
   "execution_count": 8,
   "metadata": {
    "collapsed": false
   },
   "outputs": [
    {
     "data": {
      "image/png": "[encoded data removed]",
      "text/plain": [
       "<matplotlib.figure.Figure at 0x87744a8>"
      ]
     },
     "metadata": {},
     "output_type": "display_data"
    }
   ],
   "source": [
    "# Graph Percent Survivors by CLASS\n",
    "plot_bar_values([lower_surv_per, middle_surv_per, upper_surv_per], [\"Lower Class\", \"Middle Class\", \"Upper Class\"], \"Class\")"
   ]
  },
  {
   "cell_type": "markdown",
   "metadata": {},
   "source": [
    "Analysis CLASS:\n",
    "\n",
    "Survival Percentage appears to increase in a positive way with Class status. Both the Middle and Upper Classes are largely above the PSTS whereas the Lower class is far below the PSTS. This indicates a correlation between survival and Class; the higher the passeger's class the more likely they are to survive.\n",
    "\n",
    "Missing Values:\n",
    "\n",
    "Because every data point contained information on CLASS and SURVIVED no values have been excluded."
   ]
  },
  {
   "cell_type": "markdown",
   "metadata": {
    "collapsed": true
   },
   "source": [
    "## Percent Survivors by Sex"
   ]
  },
  {
   "cell_type": "code",
   "execution_count": 9,
   "metadata": {
    "collapsed": false
   },
   "outputs": [
    {
     "name": "stdout",
     "output_type": "stream",
     "text": [
      "Total Passengers by Sex: 891\n",
      "Percent Survival by Sex: 0.383838383838\n"
     ]
    }
   ],
   "source": [
    "# Inspect factor SEX from key \"Sex\"\n",
    "key_df_stats(\"Sex\")"
   ]
  },
  {
   "cell_type": "markdown",
   "metadata": {},
   "source": [
    "Passengers with SEX information had a 38% chance of survival; this is the same as the PSTS."
   ]
  },
  {
   "cell_type": "code",
   "execution_count": 10,
   "metadata": {
    "collapsed": false
   },
   "outputs": [
    {
     "name": "stdout",
     "output_type": "stream",
     "text": [
      "Male Survival: 0.19\n",
      "Female Survival: 0.74\n"
     ]
    }
   ],
   "source": [
    "# Find Percent Survival based on SEX\n",
    "male_surv_df = tdata_df[[\"Sex\", \"Survived\"]].query(\"Sex == 'male'\")\n",
    "male_surv_per = male_surv_df[\"Survived\"].dropna().mean()\n",
    "print \"Male Survival: %.2f\" % male_surv_per\n",
    "\n",
    "female_surv_df = tdata_df[[\"Sex\", \"Survived\"]].query(\"Sex == 'female'\")\n",
    "female_surv_per = female_surv_df[\"Survived\"].dropna().mean()\n",
    "print \"Female Survival: %.2f\" % female_surv_per"
   ]
  },
  {
   "cell_type": "code",
   "execution_count": 11,
   "metadata": {
    "collapsed": false
   },
   "outputs": [
    {
     "data": {
      "image/png": "[encoded data removed]",
      "text/plain": [
       "<matplotlib.figure.Figure at 0x8daa588>"
      ]
     },
     "metadata": {},
     "output_type": "display_data"
    }
   ],
   "source": [
    "# Graph Percent Survivors by Sex\n",
    "plot_bar_values([male_surv_per, female_surv_per], [\"Male\", \"Female\"], \"Sex\")"
   ]
  },
  {
   "cell_type": "markdown",
   "metadata": {},
   "source": [
    "Analysis SEX:\n",
    "\n",
    "Sex has the highest disparity between surviving and not surviving. Being a woman onboard the Titanic appears to DOUBLE the chance of survival, whereas being a male appears to HALVE the chance.\n",
    "\n",
    "Missing Vales:\n",
    "\n",
    "Because every data point contained information on SEX and SURVIVED no values have been excluded."
   ]
  },
  {
   "cell_type": "markdown",
   "metadata": {},
   "source": [
    "## Survivors by Age"
   ]
  },
  {
   "cell_type": "code",
   "execution_count": 12,
   "metadata": {
    "collapsed": false
   },
   "outputs": [
    {
     "name": "stdout",
     "output_type": "stream",
     "text": [
      "Total Passengers by Age: 714\n",
      "Percent Survival by Age: 0.406162464986\n"
     ]
    }
   ],
   "source": [
    "# Inspect factor AGE from key \"Age\"\n",
    "key_df_stats(\"Age\")"
   ]
  },
  {
   "cell_type": "markdown",
   "metadata": {},
   "source": [
    "177 passengers with missing AGE information were ignored in the AGE calculations. "
   ]
  },
  {
   "cell_type": "code",
   "execution_count": 13,
   "metadata": {
    "collapsed": false
   },
   "outputs": [
    {
     "data": {
      "image/png": "[encoded data removed]",
      "text/plain": [
       "<matplotlib.figure.Figure at 0x91099b0>"
      ]
     },
     "metadata": {},
     "output_type": "display_data"
    }
   ],
   "source": [
    "# Create Age Data Frame\n",
    "age_df = tdata_df.groupby(\"Age\", as_index=False).apply(lambda x: x)\n",
    "\n",
    "# Split Age Data Frames: Survived and Not_Survived\n",
    "age_surv_df = age_df[[\"Age\", \"Survived\"]].dropna().query(\"Survived == 1\")\n",
    "age_nsurv_df = age_df[[\"Age\", \"Survived\"]].dropna().query(\"Survived == 0\")\n",
    "\n",
    "# Create histogram of Survived and Not_Survived Data Frames\n",
    "plots = [age_surv_df[\"Age\"], age_nsurv_df[\"Age\"]]\n",
    "plt.hist(plots, bins=12)\n",
    "plt.legend(['Survived', 'Not Survived'])\n",
    "plt.title(\"Passengers by Age\")\n",
    "plt.ylabel(\"# Passengers\")\n",
    "plt.xlabel(\"Age\")\n",
    "plt.show()"
   ]
  },
  {
   "cell_type": "markdown",
   "metadata": {},
   "source": [
    "Analysis AGE:\n",
    "\n",
    "The only age that had more survivors were for passengers between the ages of zero and ten. Being young likely influenced chance of survival in a positive way.\n",
    "\n",
    "Missing Values:\n",
    "\n",
    "Of the total 891 values, only 714 had information on AGE. Any value not containing AGE information was removed from this calculation. AGE data was not rounded; any data provided on AGE was treated as fully accurate (this is in contrast with the original documentation clearly stating some ages were estimated)."
   ]
  },
  {
   "cell_type": "markdown",
   "metadata": {},
   "source": [
    "## Survivors by Fare"
   ]
  },
  {
   "cell_type": "code",
   "execution_count": 14,
   "metadata": {
    "collapsed": false
   },
   "outputs": [
    {
     "name": "stdout",
     "output_type": "stream",
     "text": [
      "Total Passengers by Fare: 891\n",
      "Percent Survival by Fare: 0.383838383838\n"
     ]
    }
   ],
   "source": [
    "# Inspect factor FARE from key \"Fare\"\n",
    "key_df_stats(\"Fare\")"
   ]
  },
  {
   "cell_type": "markdown",
   "metadata": {},
   "source": [
    "Passengers with FARE information had a 38% chance of survival; this is the same as the PSTS."
   ]
  },
  {
   "cell_type": "code",
   "execution_count": 15,
   "metadata": {
    "collapsed": false
   },
   "outputs": [
    {
     "data": {
      "image/png": "[encoded data removed]",
      "text/plain": [
       "<matplotlib.figure.Figure at 0x924dba8>"
      ]
     },
     "metadata": {},
     "output_type": "display_data"
    },
    {
     "name": "stdout",
     "output_type": "stream",
     "text": [
      "**Red Dot showcases the mean\n"
     ]
    }
   ],
   "source": [
    "# Create FARE Data Frame of all Passengers and all Survivors\n",
    "fare_df = tdata_df.groupby(\"Fare\", as_index=False).apply(lambda x: x)\n",
    "fare_surv_df = fare_df[[\"Fare\", \"Survived\"]].dropna().query(\"Survived == 1\")\n",
    "fare_nsurv_df = fare_df[[\"Fare\", \"Survived\"]].dropna().query(\"Survived == 0\")\n",
    "\n",
    "# Create two box plots of Passengers FARE vs Survivors FARE\n",
    "boxes = [fare_df[[\"Fare\"]].query(\"Fare <= 120\"), \n",
    "         fare_surv_df[[\"Fare\"]].query(\"Fare <= 120\"), \n",
    "         fare_nsurv_df[[\"Fare\"]].query(\"Fare <= 120\")]\n",
    "plt.boxplot(boxes,  vert=False, showmeans=True)\n",
    "plt.yticks([3,2,1], ['Passengers Fare', 'Survivors Fare', 'Not Survivors Fare'])\n",
    "plt.title(\"Box Plots of Fare: \\nTotal Passengers vs Survivors vs Not Survivors\")\n",
    "plt.show()\n",
    "print \"**Red Dot showcases the mean\""
   ]
  },
  {
   "cell_type": "markdown",
   "metadata": {},
   "source": [
    "Analysis FARE:\n",
    "\n",
    "As viewed from the box plot figure, paying a higher FARE indicates a more likely chance of survival. \n",
    "\n",
    "Missing Values:\n",
    "\n",
    "Every passenger contained FARE data. FARE values above 120 were excluded from this data set because they were viewed as outliers. Median values of FARE were calculated instead of mean because outliers far exceeded the usual FARE."
   ]
  },
  {
   "cell_type": "markdown",
   "metadata": {},
   "source": [
    "## Percent Survivors by Embarked"
   ]
  },
  {
   "cell_type": "code",
   "execution_count": 16,
   "metadata": {
    "collapsed": false
   },
   "outputs": [
    {
     "name": "stdout",
     "output_type": "stream",
     "text": [
      "Total Passengers by Embarked: 889\n",
      "Percent Survival by Embarked: 0.382452193476\n"
     ]
    }
   ],
   "source": [
    "# Inspect factor EMBARKATION from key \"Embarked\"\n",
    "key_df_stats(\"Embarked\")"
   ]
  },
  {
   "cell_type": "markdown",
   "metadata": {},
   "source": [
    "2 passengers with missing EMBARKED information were ignored in the EMBARKED calculations."
   ]
  },
  {
   "cell_type": "code",
   "execution_count": 17,
   "metadata": {
    "collapsed": false,
    "scrolled": true
   },
   "outputs": [
    {
     "name": "stdout",
     "output_type": "stream",
     "text": [
      "Cherbourg Survival: 0.55\n",
      "Queenstown Survival: 0.39\n",
      "Southampton Survival: 0.34\n"
     ]
    }
   ],
   "source": [
    "# Graph Percent Survivors by Embarked\n",
    "c_surv_df = tdata_df[[\"Embarked\", \"Survived\"]].query(\"Embarked == 'C'\")\n",
    "c_surv_per = c_surv_df[\"Survived\"].dropna().mean()\n",
    "print \"Cherbourg Survival: %.2f\" % c_surv_per\n",
    "\n",
    "q_surv_df = tdata_df[[\"Embarked\", \"Survived\"]].query(\"Embarked == 'Q'\")\n",
    "q_surv_per = q_surv_df[\"Survived\"].dropna().mean()\n",
    "print \"Queenstown Survival: %.2f\" % q_surv_per\n",
    "\n",
    "s_surv_df = tdata_df[[\"Embarked\", \"Survived\"]].query(\"Embarked == 'S'\")\n",
    "s_surv_per = s_surv_df[\"Survived\"].dropna().mean()\n",
    "print \"Southampton Survival: %.2f\" % s_surv_per"
   ]
  },
  {
   "cell_type": "code",
   "execution_count": 18,
   "metadata": {
    "collapsed": false
   },
   "outputs": [
    {
     "data": {
      "image/png": "[encoded data removed]",
      "text/plain": [
       "<matplotlib.figure.Figure at 0x8fdd710>"
      ]
     },
     "metadata": {},
     "output_type": "display_data"
    }
   ],
   "source": [
    "# Graph Survivors by EMBARKED\n",
    "plot_bar_values([c_surv_per, q_surv_per, s_surv_per], [\"Cherbourg\", \"Queenstown\", \"Southampton\"], \"Embarked\")"
   ]
  },
  {
   "cell_type": "markdown",
   "metadata": {
    "collapsed": true
   },
   "source": [
    "Analysis EMBARKED:\n",
    "\n",
    "Survival rates of passengers from both Queenstown and Southampton differed little compared to the PSTS (about 1/1 ratio). It is not assumed, but is interesting to note, passengers from Cherbourg show to have a significant boost in survival (just under ~1.5 times the PSTS). \n",
    "\n",
    "Missing Values:\n",
    "\n",
    "Of 891 passengers only 889 had information values for EMBARKED and SURVIVED. The two passengers without EMBARKED data were omitted from calculations."
   ]
  },
  {
   "cell_type": "markdown",
   "metadata": {},
   "source": [
    "### Overall Analysis:\n",
    "\n",
    "Calculations are based upon data of 891 of the ~2200 passengers onboard the Titanic. This analysis assumes all data presented is true. Passengers missing information were excluded from those respective areas of calculation.\n",
    "\n",
    "Strong factors appearing to have a direct correlation on survival were being wealthy (CLASS and FARE), a female (SEX), and being young (AGE); the most apparent, influencial factor was SEX. Although this information doesn't specify as to *why* those factors increased chance of survival, the traditional practice of extracting women and children from harm first likely had an influence. \n",
    "\n",
    "Cherbourg (EMBARKED) was a bit of a surprise. At first guess point of origination would have no influence of survival once everybody was on the boat. Perchance Cherbourg was significantly more affluent (CLASS and FARE), had more females as passengers (SEX), had more children as passengers (AGE), or truly was those at Cherbourg were better at surviving. \n",
    "\n",
    "If the data was to be further inspected FARE and CLASS would tested for correlation. Likewise, the data set would be expanded to include the full set of passengers.\n",
    "\n",
    "Two Factors that were not calculated were Family Onboard (SIBSP/PARCH) and Ticket # (TICKET). If SIBSP/Parch were to be calculated it would be based on 'if passenger has family onboard' as opposed to 'how much family onboard'; the dataset appears to have very few familes. TICKET has a vast array of unique values with differing ranges of digits and letters; although a function was written to dig out just the numbers it wasn't evidently clear how to approach analyzing TICKET in a sufficient way.\n",
    "\n",
    "Additional information per account that may have influenced survival is LOCATION of passenger at time of emergency. Individuals located closer to survival boats may have had a higher chance of survival."
   ]
  },
  {
   "cell_type": "code",
   "execution_count": null,
   "metadata": {
    "collapsed": true
   },
   "outputs": [],
   "source": []
  }
 ],
 "metadata": {
  "kernelspec": {
   "display_name": "Python 2",
   "language": "python",
   "name": "python2"
  },
  "language_info": {
   "codemirror_mode": {
    "name": "ipython",
    "version": 2
   },
   "file_extension": ".py",
   "mimetype": "text/x-python",
   "name": "python",
   "nbconvert_exporter": "python",
   "pygments_lexer": "ipython2",
   "version": "2.7.11"
  }
 },
 "nbformat": 4,
 "nbformat_minor": 0
}
